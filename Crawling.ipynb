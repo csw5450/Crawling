{
 "cells": [
  {
   "cell_type": "markdown",
   "id": "b69bc682-94ff-4335-a349-8a983a9eb4ea",
   "metadata": {},
   "source": [
    "# 1.Git\n",
    "* 버전관리 시스템의 종류\n",
    "* 버전관리: 여러 파일을 하나의 버전으로 묶어 관리하는 것"
   ]
  },
  {
   "cell_type": "markdown",
   "id": "5396d3fa-cd34-4a2d-85f2-43e20f70c7b7",
   "metadata": {},
   "source": [
    "### 1-1. 버전관리 시스템의 종류\n",
    "1. 클라이언트 - 서버 모델: 하나의 중앙 서버로 여러 클라이언트들이 각자 필요한 것만 가져와서 작업을 하고 다시 중앙 서버로 보내서 통합하는 방식(SVN, CVS)\n",
    "2. 분산 모델: 하나의 중앙 서버가 존재하지만, 여러 클라이언트들은 각자의 컴퓨터에 저장소에 전체 사존을 가지고 작업하는 방식(Git)"
   ]
  },
  {
   "cell_type": "markdown",
   "id": "2dde405c-b39a-4446-9377-1d25b4514508",
   "metadata": {},
   "source": [
    "### 1-2. Git의 장점\n",
    "* 동시에 작업하는 사람들과 소스코드를 주고받을 필요가 없음\n",
    "* 같은 파일을 여러명이 동시에 병렬 개발이 가능\n",
    "* 변동 과정을 체계적으로 관리할 수 있고, 언제든지 지난 시점의 버전으로 되돌릴 수 있음\n",
    "* 인터넷이 연결되지 않은 곳에서도 개발을 진행할 수 있고, 중앙 서버의 데이터가 유실되어도 다시 복구할 수 있음"
   ]
  },
  {
   "cell_type": "markdown",
   "id": "96b62982-8702-45c8-8517-d10c748bf989",
   "metadata": {},
   "source": [
    "### 1-3. Git 설치\n",
    "1. 구글에서 'git 설치' 검색\n",
    "2. 왼쪽 메뉴에서 Downloads를 클릭(https://git-scm.com/downloads)\n",
    "3. 모니터 이미지에 있는 다운로드 버튼을 클릭\n",
    "4. 64-bit Git for Windows Setup. 클릭 후 다운도르 및 설치 (기본 설정)\n",
    "5. 설치가 끝난 후 git bash를 실행 -> git --version 명령으로 버전을 확인"
   ]
  },
  {
   "cell_type": "markdown",
   "id": "9c78a148-fac8-47d3-bbda-11eff0378371",
   "metadata": {},
   "source": [
    "# **2. Git 명령어**"
   ]
  },
  {
   "cell_type": "markdown",
   "id": "d9962933-b944-4400-8a90-a2a528149f8a",
   "metadata": {},
   "source": [
    "### 2-1. 프로젝트 디렉토리 내 '로컬 저장소'를 생성하기\n",
    "- 원하는 프로젝트 위치로 이동 후 'git init'를 실행 "
   ]
  },
  {
   "cell_type": "code",
   "execution_count": 1,
   "id": "e6a04e47-2d38-4f66-a5c8-dec50a066c5f",
   "metadata": {},
   "outputs": [
    {
     "name": "stdout",
     "output_type": "stream",
     "text": [
      "Initialized empty Git repository in C:/choisinwoo/jupyter/.git/\n"
     ]
    }
   ],
   "source": [
    "!git init"
   ]
  },
  {
   "cell_type": "markdown",
   "id": "7f8f4e28-49fb-4ebf-8f02-a1cf6323952d",
   "metadata": {},
   "source": [
    "### 2-2. 버전을 관리할 파일을 선택(stage에 올림)"
   ]
  },
  {
   "cell_type": "code",
   "execution_count": 2,
   "id": "cfffc861-0e5d-42df-818e-76899eeb48ea",
   "metadata": {},
   "outputs": [
    {
     "name": "stderr",
     "output_type": "stream",
     "text": [
      "fatal: pathspec 'Crawling' did not match any files\n"
     ]
    }
   ],
   "source": [
    "!git add Crawling"
   ]
  },
  {
   "cell_type": "markdown",
   "id": "5e1f5a5e-bd6d-496c-ab74-7e5451cc389b",
   "metadata": {},
   "source": [
    "### 2-3. 하나의 버전으로 만들기\n",
    "* 로컬 시스템에서 파일을 생성/수정/삭제한 파일들을 선별하여 버전을 만드는 것\n",
    "* 파일이 변결될 때 변경 사항은 자동으로 저장되지 않음\n",
    "* git에게 새 커밋을 생성하여 변경 사항을 저장하도록 지시"
   ]
  },
  {
   "cell_type": "code",
   "execution_count": 3,
   "id": "d7a0baa5-8097-4a26-aee1-bef2423bd4f4",
   "metadata": {},
   "outputs": [
    {
     "name": "stdout",
     "output_type": "stream",
     "text": [
      "On branch master\n",
      "\n",
      "Initial commit\n",
      "\n",
      "Untracked files:\n",
      "  (use \"git add <file>...\" to include in what will be committed)\n",
      "\t.ipynb_checkpoints/\n",
      "\tCrawling.ipynb\n",
      "\n",
      "nothing added to commit but untracked files present (use \"git add\" to track)\n"
     ]
    }
   ],
   "source": [
    "!git commit -m \"첫 커밋\""
   ]
  },
  {
   "cell_type": "code",
   "execution_count": null,
   "id": "35b6bc8b-21b1-4c50-9891-87844756d359",
   "metadata": {},
   "outputs": [],
   "source": [
    "# 에러가 발생한 경우\n",
    "# git config --global user.email \"csw5450@daim"
   ]
  }
 ],
 "metadata": {
  "kernelspec": {
   "display_name": "Python 3 (ipykernel)",
   "language": "python",
   "name": "python3"
  },
  "language_info": {
   "codemirror_mode": {
    "name": "ipython",
    "version": 3
   },
   "file_extension": ".py",
   "mimetype": "text/x-python",
   "name": "python",
   "nbconvert_exporter": "python",
   "pygments_lexer": "ipython3",
   "version": "3.10.11"
  }
 },
 "nbformat": 4,
 "nbformat_minor": 5
}
