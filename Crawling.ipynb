{
 "cells": [
  {
   "cell_type": "markdown",
   "id": "b69bc682-94ff-4335-a349-8a983a9eb4ea",
   "metadata": {},
   "source": [
    "# 1.Git\n",
    "* 버전관리 시스템의 종류\n",
    "* 버전관리: 여러 파일을 하나의 버전으로 묶어 관리하는 것"
   ]
  },
  {
   "cell_type": "markdown",
   "id": "5396d3fa-cd34-4a2d-85f2-43e20f70c7b7",
   "metadata": {},
   "source": [
    "### 1-1. 버전관리 시스템의 종류\n",
    "1. 클라이언트 - 서버 모델: 하나의 중앙 서버로 여러 클라이언트들이 각자 필요한 것만 가져와서 작업을 하고 다시 중앙 서버로 보내서 통합하는 방식(SVN, CVS)\n",
    "2. 분산 모델: 하나의 중앙 서버가 존재하지만, 여러 클라이언트들은 각자의 컴퓨터에 저장소에 전체 사존을 가지고 작업하는 방식(Git)"
   ]
  },
  {
   "cell_type": "markdown",
   "id": "2dde405c-b39a-4446-9377-1d25b4514508",
   "metadata": {},
   "source": [
    "### 1-2. Git의 장점\n",
    "* 동시에 작업하는 사람들과 소스코드를 주고받을 필요가 없음\n",
    "* 같은 파일을 여러명이 동시에 병렬 개발이 가능\n",
    "* 변동 과정을 체계적으로 관리할 수 있고, 언제든지 지난 시점의 버전으로 되돌릴 수 있음\n",
    "* 인터넷이 연결되지 않은 곳에서도 개발을 진행할 수 있고, 중앙 서버의 데이터가 유실되어도 다시 복구할 수 있음"
   ]
  },
  {
   "cell_type": "markdown",
   "id": "96b62982-8702-45c8-8517-d10c748bf989",
   "metadata": {},
   "source": [
    "### 1-3. Git 설치\n",
    "1. 구글에서 'git 설치' 검색\n",
    "2. 왼쪽 메뉴에서 Downloads를 클릭(https://git-scm.com/downloads)\n",
    "3. 모니터 이미지에 있는 다운로드 버튼을 클릭\n",
    "4. 64-bit Git for Windows Setup. 클릭 후 다운도르 및 설치 (기본 설정)\n",
    "5. 설치가 끝난 후 git bash를 실행 -> git --version 명령으로 버전을 확인"
   ]
  },
  {
   "cell_type": "markdown",
   "id": "9c78a148-fac8-47d3-bbda-11eff0378371",
   "metadata": {},
   "source": [
    "# **2. Git 명령어**"
   ]
  },
  {
   "cell_type": "markdown",
   "id": "d9962933-b944-4400-8a90-a2a528149f8a",
   "metadata": {},
   "source": [
    "### 2-1. 프로젝트 디렉토리 내 '로컬 저장소'를 생성하기\n",
    "- 원하는 프로젝트 위치로 이동 후 'git init'를 실행 "
   ]
  },
  {
   "cell_type": "code",
   "execution_count": 1,
   "id": "e6a04e47-2d38-4f66-a5c8-dec50a066c5f",
   "metadata": {},
   "outputs": [
    {
     "name": "stdout",
     "output_type": "stream",
     "text": [
      "Initialized empty Git repository in C:/choisinwoo/jupyter/.git/\n"
     ]
    }
   ],
   "source": [
    "!git init"
   ]
  },
  {
   "cell_type": "markdown",
   "id": "7f8f4e28-49fb-4ebf-8f02-a1cf6323952d",
   "metadata": {},
   "source": [
    "### 2-2. 버전을 관리할 파일을 선택(stage에 올림)"
   ]
  },
  {
   "cell_type": "code",
   "execution_count": 8,
   "id": "cfffc861-0e5d-42df-818e-76899eeb48ea",
   "metadata": {},
   "outputs": [
    {
     "name": "stderr",
     "output_type": "stream",
     "text": [
      "warning: in the working copy of 'Crawling.ipynb', LF will be replaced by CRLF the next time Git touches it\n"
     ]
    }
   ],
   "source": [
    "!git add Crawling.ipynb"
   ]
  },
  {
   "cell_type": "markdown",
   "id": "5e1f5a5e-bd6d-496c-ab74-7e5451cc389b",
   "metadata": {},
   "source": [
    "### 2-3. 하나의 버전으로 만들기\n",
    "* 로컬 시스템에서 파일을 생성/수정/삭제한 파일들을 선별하여 버전을 만드는 것\n",
    "* 파일이 변결될 때 변경 사항은 자동으로 저장되지 않음\n",
    "* git에게 새 커밋을 생성하여 변경 사항을 저장하도록 지시"
   ]
  },
  {
   "cell_type": "code",
   "execution_count": 9,
   "id": "d7a0baa5-8097-4a26-aee1-bef2423bd4f4",
   "metadata": {},
   "outputs": [
    {
     "name": "stdout",
     "output_type": "stream",
     "text": [
      "[master (root-commit) 7439a21] 泥� 而ㅻ컠\n",
      " 1 file changed, 180 insertions(+)\n",
      " create mode 100644 Crawling.ipynb\n"
     ]
    }
   ],
   "source": [
    "!git commit -m \"첫 커밋\""
   ]
  },
  {
   "cell_type": "code",
   "execution_count": 6,
   "id": "35b6bc8b-21b1-4c50-9891-87844756d359",
   "metadata": {},
   "outputs": [],
   "source": [
    "#에러가 발생한 경우\n",
    "!git config --global user.email \"csw5450@daum.net\"\n",
    "!git config --global user.name \"최신우\""
   ]
  },
  {
   "cell_type": "markdown",
   "id": "fa5927ae-cccc-4c16-b5f7-97095d4e79b2",
   "metadata": {},
   "source": [
    "### 2-4. 로그 확인하기"
   ]
  },
  {
   "cell_type": "code",
   "execution_count": 12,
   "id": "b0ec46c0-7f9f-478c-9c64-3199c00a07c3",
   "metadata": {},
   "outputs": [
    {
     "name": "stdout",
     "output_type": "stream",
     "text": [
      "commit 7439a21cc79ad1eff758a1fecc87e995c4493fda\n",
      "Author: 理쒖떊�슦 <csw5450@daum.net>\n",
      "Date:   Mon Oct 7 19:23:32 2024 +0900\n",
      "\n",
      "    泥� 而ㅻ컠\n"
     ]
    }
   ],
   "source": [
    "!git log"
   ]
  },
  {
   "cell_type": "markdown",
   "id": "1069376a-8f38-454d-a3d1-9ab5c136ba2b",
   "metadata": {},
   "source": [
    "### 2-5. README.md 만들기\n",
    "* 깃허브에 업로드시 저장소 메인 설명글로 사용되는 파일\n",
    "* 마크다운으로 작성 "
   ]
  },
  {
   "cell_type": "markdown",
   "id": "f1ed9430-91f4-408f-840d-3a9763c5dc6f",
   "metadata": {},
   "source": [
    "### 2-6. 여러 파일을 함께 선택하기\n",
    "* state에 현재 디렉토리에 있는 변환된 모든 파일을 선택"
   ]
  },
  {
   "cell_type": "code",
   "execution_count": 13,
   "id": "6391f204-579c-429a-ad14-4b4764631205",
   "metadata": {},
   "outputs": [
    {
     "name": "stderr",
     "output_type": "stream",
     "text": [
      "warning: in the working copy of 'Crawling.ipynb', LF will be replaced by CRLF the next time Git touches it\n",
      "warning: in the working copy of '.ipynb_checkpoints/Crawling-checkpoint.ipynb', LF will be replaced by CRLF the next time Git touches it\n"
     ]
    }
   ],
   "source": [
    "!git add ."
   ]
  },
  {
   "cell_type": "markdown",
   "id": "a2aaee78-79f8-4b44-80cf-cd04b171f350",
   "metadata": {},
   "source": [
    "### 2-7. 선택된 여러 파일을 커밋"
   ]
  },
  {
   "cell_type": "code",
   "execution_count": 14,
   "id": "cb914d8b-8ea3-4318-a077-50ed9bc13555",
   "metadata": {},
   "outputs": [
    {
     "name": "stdout",
     "output_type": "stream",
     "text": [
      "[master f334c74] �쁽�옱 �뵒�젆�넗由ъ뿉 �엳�뒗 紐⑤뱺 蹂�寃쎈맂 �뙆�씪�쓣 而ㅻ컠\n",
      " 3 files changed, 83 insertions(+), 17 deletions(-)\n",
      " create mode 100644 .ipynb_checkpoints/Crawling-checkpoint.ipynb\n",
      " create mode 100644 README.md\n"
     ]
    }
   ],
   "source": [
    "!git commit -m \"현재 디렉토리에 있는 모든 변경된 파일을 커밋\""
   ]
  },
  {
   "cell_type": "markdown",
   "id": "5c7cdc6d-f488-45d2-9ed4-392d047ecd53",
   "metadata": {},
   "source": [
    "# **3. 깃허브(GitHub)**\n",
    "* git으로 버전 관리한 코드를 업로드 할 수 있는 클라우드 서비스\n",
    "*  단순히 저장만 하는 것이 아니라 다른 유저들과 함께 코드를 공유하고 온라인으로 하나의 프로젝트를 개발할 수 있게 해줌\n",
    "*  [공식 사이트](https://github.com/)"
   ]
  },
  {
   "cell_type": "markdown",
   "id": "49bca9d4-79d3-4708-aa85-a784263b09d5",
   "metadata": {},
   "source": [
    "### 3-1. 로컬 저장소에서 github 저장소 주소를 설정"
   ]
  },
  {
   "cell_type": "code",
   "execution_count": 6,
   "id": "7cdae0e2-0e6f-4d46-be30-e2c49d239b2a",
   "metadata": {},
   "outputs": [],
   "source": [
    "# https://github.com/csw5450/Crawling.git\n",
    "!git remote add origin https://github.com/csw5450/Crawling.git"
   ]
  },
  {
   "cell_type": "code",
   "execution_count": 7,
   "id": "1d861770-9718-4fd6-b978-3664be2da98f",
   "metadata": {},
   "outputs": [
    {
     "name": "stdout",
     "output_type": "stream",
     "text": [
      "origin\thttps://github.com/csw5450/Crawling.git (fetch)\n",
      "origin\thttps://github.com/csw5450/Crawling.git (push)\n"
     ]
    }
   ],
   "source": [
    "# 확인하기\n",
    "!git remote -v"
   ]
  },
  {
   "cell_type": "code",
   "execution_count": 5,
   "id": "14a57d6f-4999-404e-988e-a3121922f2ea",
   "metadata": {},
   "outputs": [
    {
     "name": "stderr",
     "output_type": "stream",
     "text": [
      "error: No such remote: 'origin'\n"
     ]
    }
   ],
   "source": [
    "# 삭제하기\n",
    "!git remote remove origin"
   ]
  },
  {
   "cell_type": "markdown",
   "id": "5ba3939e-fdb4-4138-ba8d-79c39f6e3112",
   "metadata": {},
   "source": [
    "### 3-2. 생성한 커밋(버전들)을 github로 전송하기"
   ]
  },
  {
   "cell_type": "code",
   "execution_count": 8,
   "id": "1243a67c-590b-4692-9aad-2b698eea2d41",
   "metadata": {},
   "outputs": [
    {
     "name": "stdout",
     "output_type": "stream",
     "text": [
      "branch 'master' set up to track 'origin/master'.\n"
     ]
    },
    {
     "name": "stderr",
     "output_type": "stream",
     "text": [
      "To https://github.com/csw5450/Crawling.git\n",
      " * [new branch]      master -> master\n"
     ]
    }
   ],
   "source": [
    "# -u: 업스트림, 원결 저장소와 로컬 브랜치가 추적하는 브랜치를 의미, 기본적으로 origin/master 브랜치를 추적함\n",
    "!git push -u origin master"
   ]
  },
  {
   "cell_type": "markdown",
   "id": "dd66b3de-b8f7-4a94-8759-44158d4aad79",
   "metadata": {},
   "source": [
    "### 3-3. Git Repository Clone\n",
    "* Repository를 로컬 시스템에 복제하는 방법\n",
    "* 지금까지 모든 Repository의 히스토리를 포함"
   ]
  },
  {
   "cell_type": "code",
   "execution_count": 1,
   "id": "0b8642c7-b084-471a-8245-712dfa23d070",
   "metadata": {},
   "outputs": [
    {
     "name": "stderr",
     "output_type": "stream",
     "text": [
      "Cloning into 'Crawling'...\n"
     ]
    }
   ],
   "source": [
    "# 폴더를 생성하고 폴더에 해당 소스코드를 저장\n",
    "!git clone https://github.com/csw5450/Crawling.git"
   ]
  },
  {
   "cell_type": "code",
   "execution_count": null,
   "id": "148e280f-362c-45de-86f0-64216d5015fc",
   "metadata": {},
   "outputs": [],
   "source": [
    "# 폴더를 생성하지 않고 해당 소스코드를 저장\n",
    "!git clone https://github.com/csw5450/Crawling.git ."
   ]
  },
  {
   "cell_type": "markdown",
   "id": "748c8a65-fa49-42bc-b351-fa7e95659f48",
   "metadata": {},
   "source": [
    "# **4. 다른 사람과의 협업**\n",
    "원하는 Repository에서 -> Settings -> 왼쪽 메뉴에 collaborators -> Manage access에서 Add people 클릭\n",
    "-> 이름 또는 이메일을 추가 -> 초대받은 계정의 메일에서 수락"
   ]
  },
  {
   "cell_type": "markdown",
   "id": "fe19affb-93c4-441e-9333-1ef37e2863e2",
   "metadata": {},
   "source": [
    "### 4-1. Git Repository Fork\n",
    "* 하나의 Repository를 다른계정(또는 네임스페이스)으로 복사\n",
    "* Git 명령어가 아님 Github에서 제공하는 명령어\n",
    "* 다른사람의 github 계정 Repository 에서 fork를 눌러 내 계정 Repository로 복사"
   ]
  },
  {
   "cell_type": "markdown",
   "id": "f096fb4b-7fd8-44ec-8a6e-2d5e1d7708c9",
   "metadata": {},
   "source": [
    "### 4-2. pull\n",
    "* 원격저장소에서 fetch 명령어로 가져온 후 merge까지 한번에 실행하는 명령"
   ]
  },
  {
   "cell_type": "code",
   "execution_count": 2,
   "id": "4b53a5e0-cf89-4c1e-ab3b-1af6f75f1279",
   "metadata": {},
   "outputs": [
    {
     "name": "stdout",
     "output_type": "stream",
     "text": [
      "Already up to date.\n"
     ]
    }
   ],
   "source": [
    "!git pull origin"
   ]
  },
  {
   "cell_type": "markdown",
   "id": "37f05def-168a-4907-a574-6d576892fe83",
   "metadata": {},
   "source": [
    "### 4-3. fetch\n",
    "* 원격저장소에서 소스를 가져오기(merge 를 사용하지 않음)"
   ]
  },
  {
   "cell_type": "code",
   "execution_count": 3,
   "id": "aa1b2213-00c6-4132-aac8-59b2bbff4db4",
   "metadata": {},
   "outputs": [],
   "source": [
    "!git fetch origin"
   ]
  },
  {
   "cell_type": "markdown",
   "id": "4d986ceb-a22f-46aa-bbae-e26b888b5a76",
   "metadata": {},
   "source": [
    "### 4-4. branch\n",
    "* 작업에 대한 가지\n",
    "* 큰 줄기(master)에 영향을 주지 않고 가지에서만 작업을 별도로 할 수 있음\n",
    "* 브랜치를 사용하여 저장소의 메인 분기에 영향을 미치지 않고 여러기능이나 버그 수정을 동시에 수행할 수 있음"
   ]
  },
  {
   "cell_type": "code",
   "execution_count": 4,
   "id": "2d8b3895-75e9-40af-b20b-d62df444cfdf",
   "metadata": {},
   "outputs": [
    {
     "name": "stderr",
     "output_type": "stream",
     "text": [
      "Switched to a new branch 'dev'\n"
     ]
    }
   ],
   "source": [
    "!git checkout -b dev"
   ]
  },
  {
   "cell_type": "markdown",
   "id": "9b8628bb-bb8f-4505-9c3f-4036259110c6",
   "metadata": {},
   "source": [
    "# **5. .gitignore 파일**\n",
    "* 프로젝트에 원하지 않는 백업 파일이나 로그파일 혹은 보안상 문제가 있는 파일들을 git에서 제외시킬 수 있는 설정 파일"
   ]
  },
  {
   "cell_type": "code",
   "execution_count": null,
   "id": "8856e865-2844-4a71-8eb8-ff95fafab884",
   "metadata": {},
   "outputs": [],
   "source": []
  }
 ],
 "metadata": {
  "kernelspec": {
   "display_name": "Python 3 (ipykernel)",
   "language": "python",
   "name": "python3"
  },
  "language_info": {
   "codemirror_mode": {
    "name": "ipython",
    "version": 3
   },
   "file_extension": ".py",
   "mimetype": "text/x-python",
   "name": "python",
   "nbconvert_exporter": "python",
   "pygments_lexer": "ipython3",
   "version": "3.10.11"
  }
 },
 "nbformat": 4,
 "nbformat_minor": 5
}
